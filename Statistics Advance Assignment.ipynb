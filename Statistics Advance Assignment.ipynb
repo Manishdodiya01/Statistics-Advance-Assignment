{
 "cells": [
  {
   "cell_type": "markdown",
   "id": "60800b6e-8b30-433b-9497-d55494107ad4",
   "metadata": {
    "jp-MarkdownHeadingCollapsed": true,
    "tags": []
   },
   "source": [
    "# Q1. What is the Probability density function?"
   ]
  },
  {
   "cell_type": "markdown",
   "id": "5edb8311-d612-45f2-a988-7b8b89734640",
   "metadata": {},
   "source": [
    "A probability density function (PDF) is a function that describes the probability of a continuous random variable taking on a particular value. It is often represented graphically as a curve, with the height of the curve at a particular point indicating the probability of the random variable taking on that value.\n",
    "\n",
    "The PDF of a continuous random variable must meet the following three conditions:\n",
    "\n",
    "It must be non-negative for all possible values of the random variable.\n",
    "The total area under the curve of the PDF must be equal to 1. This means that the probability of the random variable taking on any value is 1.\n",
    "The PDF can be interpreted as the probability per unit interval. This means that the probability of the random variable taking on a value within a particular interval is equal to the area under the curve of the PDF for that interval."
   ]
  },
  {
   "cell_type": "markdown",
   "id": "42cecdef-c443-45fe-905b-947329f27ca5",
   "metadata": {
    "jp-MarkdownHeadingCollapsed": true,
    "tags": []
   },
   "source": [
    "# Q2. What are the types of Probability distribution?"
   ]
  },
  {
   "cell_type": "markdown",
   "id": "c0cb68e9-b80d-4863-8f55-cf0ca796d734",
   "metadata": {},
   "source": [
    "Discrete probability distributions are those in which the random variable can only take on a finite number of values. Some examples of discrete probability distributions include the binomial distribution, the Poisson distribution, and the geometric distribution.\n",
    "Continuous probability distributions are those in which the random variable can take on any value within a given range. Some examples of continuous probability distributions include the normal distribution, the uniform distribution, and the exponential distribution.\n",
    "Here is a table of some of the most common probability distributions, along with their characteristics:"
   ]
  },
  {
   "cell_type": "markdown",
   "id": "7ef3543f-15e0-4b35-bc80-29e54e146ba0",
   "metadata": {},
   "source": [
    "type of probability : binomial distribution , poisson distribution , uniform distribution , Normal distribution , Exponential distribution."
   ]
  },
  {
   "cell_type": "markdown",
   "id": "a6c97e20-6c16-447b-8610-17b8b1025ed2",
   "metadata": {
    "tags": []
   },
   "source": [
    "# Q3. Write a Python function to calculate the probability density function of a normal distribution with\n",
    "given mean and standard deviation at a given point."
   ]
  },
  {
   "cell_type": "code",
   "execution_count": 1,
   "id": "b38580c0-0686-4459-ae07-8a8b3bbc0e36",
   "metadata": {},
   "outputs": [],
   "source": [
    "import scipy.stats as stats"
   ]
  },
  {
   "cell_type": "code",
   "execution_count": 4,
   "id": "e1f4c635-fb02-492c-9885-1e39a645240c",
   "metadata": {},
   "outputs": [],
   "source": [
    "def Normal_dis(x,mean,std_dev):\n",
    "    \n",
    "    pdf = stat.norm(mean,std_dev).pdf(x)\n",
    "    return pdf"
   ]
  },
  {
   "cell_type": "code",
   "execution_count": 11,
   "id": "cf3b8ae8-d221-4efb-9f06-ae43f2a5b4cf",
   "metadata": {},
   "outputs": [
    {
     "name": "stdout",
     "output_type": "stream",
     "text": [
      "PDF at x = 2.5 : 0.0913245\n"
     ]
    }
   ],
   "source": [
    "mean = 0\n",
    "std_dev = 2\n",
    "x = 2.5\n",
    "output = Normal_dis(x,mean,std_dev)\n",
    "print(f\"PDF at x = {x} : {output:.6}\")"
   ]
  },
  {
   "cell_type": "markdown",
   "id": "3199d9e8-24d8-4ea3-bef6-36838d81782c",
   "metadata": {
    "jp-MarkdownHeadingCollapsed": true,
    "tags": []
   },
   "source": [
    "# Q4. What are the properties of Binomial distribution? Give two examples of events where binomial\n",
    "distribution can be applied."
   ]
  },
  {
   "cell_type": "markdown",
   "id": "42c04cc3-9b28-425e-9ac7-5e5a07bab239",
   "metadata": {},
   "source": [
    "The Binomial distribution is a probability distribution that models the number of successes in a fixed number of independent Bernoulli trials (binary events) with the same probability of success (p) on each trial. It has the following properties:\n",
    "\n",
    "1. Discreteness: The Binomial distribution is a discrete probability distribution, meaning it deals with discrete, whole-number outcomes.\n",
    "\n",
    "2. Fixed Number of Trials: The distribution is defined for a fixed number of trials (n), where each trial can have one of two outcomes (success or failure).\n",
    "\n",
    "3. Independence: Each trial is assumed to be independent of others, meaning the outcome of one trial does not influence the outcome of another.\n",
    "\n",
    "4. Constant Probability: The probability of success (p) remains constant for each trial. The probability of failure is simply (1 - p).\n",
    "\n",
    "5. Counting Successes: The Binomial distribution represents the number of successful outcomes in the fixed number of trials.\n",
    "\n",
    "6. Notation: The Binomial distribution is denoted as B(x; n, p), where 'x' represents the number of successes, 'n' is the number of trials, and 'p' is the probability of success.\n",
    "\n",
    "Two examples of events where the Binomial distribution can be applied are:\n",
    "\n",
    "1. Coin Tosses: Consider flipping a fair coin (with heads as success and tails as failure) multiple times. Each toss is independent, and the probability of getting heads (success) is 0.5. If we want to find the probability of getting a specific number of heads in, say, 10 coin tosses, we can use the Binomial distribution.\n",
    "\n",
    "2. Quality Control: Imagine a manufacturing process where a certain percentage of items are defective, and we want to inspect a fixed number of items to count the number of defective ones. The probability of an item being defective is 'p', and we are inspecting 'n' items. The Binomial distribution can help us calculate the probability of finding a specific number of defective items in the sample.\n",
    "\n",
    "In both cases, the Binomial distribution is suitable because each trial is independent (previous tosses or inspections don't affect future ones), the probability of success (getting heads or finding a defective item) remains constant, and we are counting the number of successes in a fixed number of trials."
   ]
  },
  {
   "cell_type": "markdown",
   "id": "5e092115-8585-4273-a247-3be7cf954a0c",
   "metadata": {
    "tags": []
   },
   "source": [
    "# Q5. Generate a random sample of size 1000 from a binomial distribution with probability of success 0.4\n",
    "and plot a histogram of the results using matplotlib."
   ]
  },
  {
   "cell_type": "code",
   "execution_count": 17,
   "id": "93eac861-a2a1-41f0-9bae-863b519c1ee2",
   "metadata": {},
   "outputs": [
    {
     "data": {
      "image/png": "[encoded data removed]",
      "text/plain": [
       "<Figure size 640x480 with 1 Axes>"
      ]
     },
     "metadata": {},
     "output_type": "display_data"
    }
   ],
   "source": [
    "import numpy as np\n",
    "import matplotlib.pyplot as plt\n",
    "\n",
    "\n",
    "n = 1000\n",
    "p = 0.4\n",
    "sample = np.random.binomial(n,p)\n",
    "\n",
    "\n",
    "plt.hist(sample , bins=10 , color = 'red')\n",
    "plt.xlabel(\"Number of successes\")\n",
    "plt.ylabel(\"Frequency\")\n",
    "plt.show()"
   ]
  },
  {
   "cell_type": "markdown",
   "id": "022a3cb7-7187-4514-a6a7-626734bdb687",
   "metadata": {
    "jp-MarkdownHeadingCollapsed": true,
    "tags": []
   },
   "source": [
    "# Q6. Write a Python function to calculate the cumulative distribution function of a Poisson distribution\n",
    "with given mean at a given point."
   ]
  },
  {
   "cell_type": "code",
   "execution_count": 18,
   "id": "5af1cabd-edee-42dd-af1d-4707c84c6170",
   "metadata": {},
   "outputs": [],
   "source": [
    "from scipy.stats import poisson"
   ]
  },
  {
   "cell_type": "code",
   "execution_count": 21,
   "id": "6a7dde4a-c945-414a-b492-d8ee1815f020",
   "metadata": {},
   "outputs": [
    {
     "name": "stdout",
     "output_type": "stream",
     "text": [
      "CDF at x = 4: 0.43347\n"
     ]
    }
   ],
   "source": [
    "def poisson_d(x,mean):\n",
    "    \n",
    "    r = poisson.cdf(x,mean)\n",
    "    return r\n",
    "\n",
    "\n",
    "mean = 3\n",
    "x = 4\n",
    "result = poisson_d(mean,x)\n",
    "print(f\"CDF at x = {x}: {result:.5}\")"
   ]
  },
  {
   "cell_type": "markdown",
   "id": "4e2e442b-ec4b-48a0-bdf9-be955a8419ac",
   "metadata": {
    "jp-MarkdownHeadingCollapsed": true,
    "tags": []
   },
   "source": [
    "# Q7. How Binomial distribution different from Poisson distribution?"
   ]
  },
  {
   "cell_type": "markdown",
   "id": "34c7efd4-0025-4cf2-9852-0d65b86ba859",
   "metadata": {},
   "source": [
    "\n",
    "The Binomial distribution and the Poisson distribution are both discrete probability distributions that are used to model the number of successes in a series of independent trials. However, there are some key differences between the two distributions.\n",
    "\n",
    "Number of trials: The Binomial distribution has a fixed number of trials, while the Poisson distribution does not. In the Binomial distribution, the number of trials is denoted by n. In the Poisson distribution, the number of trials is not specified, but it is assumed to be large.\n",
    "Probability of success: The probability of success in each trial is the same in the Binomial distribution, but it can vary in the Poisson distribution. In the Binomial distribution, the probability of success is denoted by p. In the Poisson distribution, the probability of success is denoted by λ.\n",
    "Shape of the distribution: The Binomial distribution is a symmetric distribution, while the Poisson distribution is not. The Binomial distribution has a mean and variance that are equal to np and np(1-p), respectively. The Poisson distribution has a mean and variance that are both equal to λ.\n",
    "In general, the Binomial distribution is used when the number of trials is small and the probability of success is not too close to 0 or 1. The Poisson distribution is used when the number of trials is large and the probability of success is small.\n",
    "\n",
    "Here is a table that summarizes the key differences between the Binomial distribution and the Poisson distribution:\n",
    "\n",
    "Feature\tBinomial distribution\tPoisson distribution\n",
    "Number of trials\tFixed\tNot fixed\n",
    "Probability of success\tSame in each trial\tCan vary\n",
    "Shape of the distribution\tSymmetric\tNot symmetric\n",
    "Mean and variance\tEqual to np and np(1-p)\tEqual to λ\n",
    "Here are some examples of when to use the Binomial distribution and the Poisson distribution:\n",
    "\n",
    "Binomial distribution:\n",
    "The number of heads in 10 coin flips.\n",
    "The number of defective items in a sample of 100 items.\n",
    "The number of customers who arrive at a store in an hour.\n",
    "Poisson distribution:\n",
    "The number of phone calls received by a call center in an hour.\n",
    "The number of accidents that occur in a city in a day.\n",
    "The number of bacteria in a culture dish after an hour."
   ]
  },
  {
   "cell_type": "markdown",
   "id": "37c0c864-2bee-4940-8c50-9a9f30e8b5bc",
   "metadata": {},
   "source": [
    "# Q8. Generate a random sample of size 1000 from a Poisson distribution with mean 5 and calculate the\n",
    "sample mean and variance."
   ]
  },
  {
   "cell_type": "code",
   "execution_count": 1,
   "id": "b679410f-dd7c-4c7a-be77-4c780b00d095",
   "metadata": {},
   "outputs": [
    {
     "name": "stdout",
     "output_type": "stream",
     "text": [
      "Sample_Mean :  5.116\n",
      "Sample_Variance :  4.954544000000001\n"
     ]
    }
   ],
   "source": [
    "import numpy as np\n",
    "\n",
    "\n",
    "sample = np.random.poisson(5,1000)\n",
    "sample_mean = np.mean(sample)\n",
    "sample_variance = np.var(sample)\n",
    "\n",
    "print(\"Sample_Mean : \" , sample_mean)\n",
    "print(\"Sample_Variance : \" , sample_variance)"
   ]
  },
  {
   "cell_type": "markdown",
   "id": "df54fcb2-2551-4cb8-ba5f-2aa587d984d8",
   "metadata": {},
   "source": [
    "# Q9. How mean and variance are related in Binomial distribution and Poisson distribution?"
   ]
  },
  {
   "cell_type": "markdown",
   "id": "942fc85c-84dc-41e4-b0af-1e0a03257e65",
   "metadata": {},
   "source": [
    "In both the Binomial and Poisson distributions, the mean and variance are related, but the nature of their relationship is different due to the distinct characteristics of each distribution.\n",
    "\n",
    "1. Binomial Distribution:\n",
    "For a Binomial distribution with parameters \"n\" (number of trials) and \"p\" (probability of success in each trial), the mean (μ) and variance (σ^2) are related as follows:\n",
    "\n",
    "Mean (μ) = n * p\n",
    "Variance (σ^2) = n * p * (1 - p)\n",
    "\n",
    "Here's why this relationship holds:\n",
    "- In the Binomial distribution, each trial has two possible outcomes: success or failure.\n",
    "- The mean (μ) is calculated as the expected number of successes in \"n\" trials, which is simply the product of the number of trials (n) and the probability of success in each trial (p).\n",
    "- The variance (σ^2) represents the spread or dispersion of the distribution. It is calculated as the product of the number of trials (n), the probability of success (p), and the probability of failure (1 - p).\n",
    "\n",
    "The variance in the Binomial distribution increases as the probability of success (p) approaches 0.5 and decreases as it approaches either 0 or 1. When the probability of success is close to 0.5, there is more uncertainty, leading to higher variability.\n",
    "\n",
    "2. Poisson Distribution:\n",
    "For a Poisson distribution with parameter \"λ\" (lambda), which represents the average rate of events per interval, the mean (μ) and variance (σ^2) are related as follows:\n",
    "\n",
    "Mean (μ) = λ\n",
    "Variance (σ^2) = λ\n",
    "\n",
    "Here's why this relationship holds:\n",
    "- The Poisson distribution models the number of rare events occurring in a fixed interval, given a constant average rate (λ) at which these events occur.\n",
    "- The mean (μ) is equal to the average rate of events per interval (λ).\n",
    "- The variance (σ^2) is also equal to λ.\n",
    "\n",
    "Unlike the Binomial distribution, the variance of the Poisson distribution is solely determined by the average rate (λ) and does not depend on any other probabilities. As a result, the variance in the Poisson distribution is equal to its mean.\n",
    "\n",
    "In summary, in the Binomial distribution, the variance depends on both the number of trials (n) and the probability of success (p), while in the Poisson distribution, the variance is solely determined by the average rate (λ)."
   ]
  },
  {
   "cell_type": "markdown",
   "id": "9568c48b-af14-40e9-98c4-c33cdd01bba1",
   "metadata": {},
   "source": [
    "# Q10. In normal distribution with respect to mean position, where does the least frequent data appear?"
   ]
  },
  {
   "cell_type": "markdown",
   "id": "9ceca7cd-5c26-441e-85fa-ef905fa81a58",
   "metadata": {},
   "source": [
    "In a normal distribution, the least frequent data appears in the tails of the distribution, farthest away from the mean position. The normal distribution is a symmetric bell-shaped curve, and its shape is determined by its mean (μ) and standard deviation (σ).\n",
    "\n",
    "The mean (μ) is the central value of the distribution and represents its center of symmetry. In a perfectly symmetric normal distribution, the mean is also the peak of the curve. Data points closer to the mean are more frequent, as the curve is higher and steeper around the mean, indicating that values closer to the mean are more likely to occur.\n",
    "\n",
    "As you move away from the mean toward the tails of the distribution, the curve gradually decreases in height, indicating that data points in the tails are less frequent. The tails extend to negative and positive infinity, but most of the data points are concentrated within a few standard deviations of the mean.\n",
    "\n",
    "The area under the normal curve represents probabilities, and it's commonly used to estimate the likelihood of observing a data point within a certain range. The tails represent extreme values, and because the normal distribution tails extend to infinity, extremely large or extremely small values have very low probabilities of occurrence.\n",
    "\n",
    "In summary, the least frequent data points in a normal distribution appear in the tails, which are the farthest regions from the mean position. The more extreme the values, the lower their occurrence probability in a normal distribution."
   ]
  },
  {
   "cell_type": "markdown",
   "id": "1519d786-e0a7-44fa-8d84-89259833eb6f",
   "metadata": {},
   "source": [
    "The least frequent data in a normal distribution can be important to consider when making decisions about the data. For example, if you are trying to determine the average height of a population, you would need to take into account the rare events, such as the very tall and very short people. Otherwise, you might get an inaccurate estimate of the average height."
   ]
  },
  {
   "cell_type": "markdown",
   "id": "d3c84bf7-df4b-4acb-91b4-dfaf8f0b4486",
   "metadata": {},
   "source": [
    "The least frequent data in a normal distribution is often referred to as the rare events. These events are very unlikely to happen, but they can have a significant impact on the overall distribution. For example, in a normal distribution of heights, the least frequent data would be the people who are very tall or very short. These people are rare, but they can have a significant impact on the average height of the population.\n",
    "\n"
   ]
  },
  {
   "cell_type": "code",
   "execution_count": null,
   "id": "19917469-8102-48b9-a755-241be3461a07",
   "metadata": {},
   "outputs": [],
   "source": []
  }
 ],
 "metadata": {
  "kernelspec": {
   "display_name": "Python 3 (ipykernel)",
   "language": "python",
   "name": "python3"
  },
  "language_info": {
   "codemirror_mode": {
    "name": "ipython",
    "version": 3
   },
   "file_extension": ".py",
   "mimetype": "text/x-python",
   "name": "python",
   "nbconvert_exporter": "python",
   "pygments_lexer": "ipython3",
   "version": "3.10.8"
  }
 },
 "nbformat": 4,
 "nbformat_minor": 5
}
